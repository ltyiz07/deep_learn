{
 "cells": [
  {
   "cell_type": "code",
   "execution_count": 2,
   "id": "e3d92539",
   "metadata": {},
   "outputs": [],
   "source": [
    "%matplotlib inline"
   ]
  },
  {
   "cell_type": "code",
   "execution_count": 3,
   "id": "1dfca193",
   "metadata": {},
   "outputs": [],
   "source": [
    "import numpy as np\n",
    "import matplotlib.pyplot as plt"
   ]
  },
  {
   "cell_type": "code",
   "execution_count": 866,
   "id": "80b39dbc",
   "metadata": {},
   "outputs": [],
   "source": [
    "input_value = np.array([\n",
    "    [[0.15], [0.02]],\n",
    "    [[0.25], [0.15]],\n",
    "    [[0.40], [0.25]],\n",
    "    [[0.45], [0.30]],\n",
    "    [[0.35], [0.10]],\n",
    "    [[0.10], [0.20]],\n",
    "    [[0.15], [0.15]],\n",
    "    [[0.35], [0.10]],\n",
    "    [[0.25], [0.40]],\n",
    "    [[0.12], [0.02]],\n",
    "    [[0.26], [0.13]],\n",
    "    [[0.44], [0.23]],\n",
    "    [[0.43], [0.33]],\n",
    "    [[0.33], [0.13]],\n",
    "    [[0.13], [0.23]],\n",
    "    [[0.13], [0.13]],\n",
    "    [[0.33], [0.13]],\n",
    "    [[0.23], [0.43]],\n",
    "    \n",
    "    [[0.66], [0.56]],\n",
    "    [[0.66], [0.60]],\n",
    "    [[0.75], [0.90]],\n",
    "    [[0.75], [0.80]],\n",
    "    [[0.85], [0.85]],\n",
    "    [[0.80], [0.60]],\n",
    "    [[0.90], [0.90]],\n",
    "    [[0.60], [0.80]],\n",
    "    [[0.70], [0.70]],\n",
    "    [[0.66], [0.56]],\n",
    "    [[0.66], [0.60]],\n",
    "    [[0.75], [0.90]],\n",
    "    [[0.76], [0.80]],\n",
    "    [[0.86], [0.85]],\n",
    "    [[0.80], [0.60]],\n",
    "    [[0.90], [0.90]],\n",
    "    [[0.60], [0.80]],\n",
    "    [[0.70], [0.70]],\n",
    "])\n",
    "output_value = np.array([\n",
    "    [0],\n",
    "    [0],\n",
    "    [0],\n",
    "    [0],\n",
    "    [0],\n",
    "    [0],\n",
    "    [0],\n",
    "    [0],\n",
    "    [0],\n",
    "    [0],\n",
    "    [0],\n",
    "    [0],\n",
    "    [0],\n",
    "    [0],\n",
    "    [0],\n",
    "    [0],\n",
    "    [0],\n",
    "    [0],\n",
    "    \n",
    "    [10],\n",
    "    [10],\n",
    "    [10],\n",
    "    [10],\n",
    "    [10],\n",
    "    [10],\n",
    "    [10],\n",
    "    [10],\n",
    "    [10],\n",
    "    [10],\n",
    "    [10],\n",
    "    [10],\n",
    "    [10],\n",
    "    [10],\n",
    "    [10],\n",
    "    [10],\n",
    "    [10],\n",
    "    [10]\n",
    "])"
   ]
  },
  {
   "cell_type": "code",
   "execution_count": 867,
   "id": "b66546eb",
   "metadata": {},
   "outputs": [],
   "source": [
    "def activation_func(x):\n",
    "    return max(0, x)"
   ]
  },
  {
   "cell_type": "code",
   "execution_count": 868,
   "id": "c69f4ebc",
   "metadata": {},
   "outputs": [],
   "source": [
    "def loss_func(predict, label):\n",
    "    return sum((predict - label) ** 2)"
   ]
  },
  {
   "cell_type": "code",
   "execution_count": 869,
   "id": "c1f6fe6e",
   "metadata": {},
   "outputs": [],
   "source": [
    "step = 0.1\n",
    "weights = np.array([0.5, 0.5])\n",
    "bias = 0.0"
   ]
  },
  {
   "cell_type": "code",
   "execution_count": 870,
   "id": "86f713d7",
   "metadata": {},
   "outputs": [],
   "source": [
    "losses = []"
   ]
  },
  {
   "cell_type": "code",
   "execution_count": 884,
   "id": "d78d1767",
   "metadata": {},
   "outputs": [
    {
     "name": "stdout",
     "output_type": "stream",
     "text": [
      "0\n",
      "dbias:  0.0\n",
      "dweight[0]:  [0.]\n",
      "dweight[1]:  [0.]\n",
      "0\n",
      "dbias:  0.0\n",
      "dweight[0]:  [0.]\n",
      "dweight[1]:  [0.]\n",
      "0\n",
      "dbias:  0.0\n",
      "dweight[0]:  [0.]\n",
      "dweight[1]:  [0.]\n",
      "0\n",
      "dbias:  0.0\n",
      "dweight[0]:  [0.]\n",
      "dweight[1]:  [0.]\n",
      "0\n",
      "dbias:  0.0\n",
      "dweight[0]:  [0.]\n",
      "dweight[1]:  [0.]\n",
      "0\n",
      "dbias:  0.0\n",
      "dweight[0]:  [0.]\n",
      "dweight[1]:  [0.]\n",
      "0\n",
      "dbias:  0.0\n",
      "dweight[0]:  [0.]\n",
      "dweight[1]:  [0.]\n",
      "0\n",
      "dbias:  0.0\n",
      "dweight[0]:  [0.]\n",
      "dweight[1]:  [0.]\n",
      "0\n",
      "dbias:  0.0\n",
      "dweight[0]:  [0.]\n",
      "dweight[1]:  [0.]\n",
      "0\n",
      "dbias:  0.0\n",
      "dweight[0]:  [0.]\n",
      "dweight[1]:  [0.]\n",
      "0\n",
      "dbias:  0.0\n",
      "dweight[0]:  [0.]\n",
      "dweight[1]:  [0.]\n",
      "0\n",
      "dbias:  0.0\n",
      "dweight[0]:  [0.]\n",
      "dweight[1]:  [0.]\n",
      "1.2439961601123207e-06\n",
      "dbias:  [0.00022307]\n",
      "dweight[0]:  [9.59197352e-05]\n",
      "dweight[1]:  [7.361282e-05]\n",
      "0\n",
      "dbias:  0.0\n",
      "dweight[0]:  [0.]\n",
      "dweight[1]:  [0.]\n",
      "0\n",
      "dbias:  0.0\n",
      "dweight[0]:  [0.]\n",
      "dweight[1]:  [0.]\n",
      "0\n",
      "dbias:  0.0\n",
      "dweight[0]:  [0.]\n",
      "dweight[1]:  [0.]\n",
      "0\n",
      "dbias:  0.0\n",
      "dweight[0]:  [0.]\n",
      "dweight[1]:  [0.]\n",
      "0\n",
      "dbias:  0.0\n",
      "dweight[0]:  [0.]\n",
      "dweight[1]:  [0.]\n",
      "96.2957525023062\n",
      "dbias:  [-1.96260798]\n",
      "dweight[0]:  [-1.29532127]\n",
      "dweight[1]:  [-1.09906047]\n",
      "95.96540395453208\n",
      "dbias:  [-1.95923867]\n",
      "dweight[0]:  [-1.29309752]\n",
      "dweight[1]:  [-1.1755432]\n",
      "92.83156781984877\n",
      "dbias:  [-1.9269828]\n",
      "dweight[0]:  [-1.4452371]\n",
      "dweight[1]:  [-1.73428452]\n",
      "93.64491843905311\n",
      "dbias:  [-1.93540609]\n",
      "dweight[0]:  [-1.45155457]\n",
      "dweight[1]:  [-1.54832487]\n",
      "92.48978846314843\n",
      "dbias:  [-1.92343223]\n",
      "dweight[0]:  [-1.63491739]\n",
      "dweight[1]:  [-1.63491739]\n",
      "94.90379380466338\n",
      "dbias:  [-1.94837156]\n",
      "dweight[0]:  [-1.55869725]\n",
      "dweight[1]:  [-1.16902294]\n",
      "91.71313259692845\n",
      "dbias:  [-1.91533947]\n",
      "dweight[0]:  [-1.72380553]\n",
      "dweight[1]:  [-1.72380553]\n",
      "94.77503576922584\n",
      "dbias:  [-1.94704942]\n",
      "dweight[0]:  [-1.16822965]\n",
      "dweight[1]:  [-1.55763953]\n",
      "94.83940386148073\n",
      "dbias:  [-1.94771049]\n",
      "dweight[0]:  [-1.36339734]\n",
      "dweight[1]:  [-1.36339734]\n",
      "96.2957525023062\n",
      "dbias:  [-1.96260798]\n",
      "dweight[0]:  [-1.29532127]\n",
      "dweight[1]:  [-1.09906047]\n",
      "95.96540395453208\n",
      "dbias:  [-1.95923867]\n",
      "dweight[0]:  [-1.29309752]\n",
      "dweight[1]:  [-1.1755432]\n",
      "92.83156781984877\n",
      "dbias:  [-1.9269828]\n",
      "dweight[0]:  [-1.4452371]\n",
      "dweight[1]:  [-1.73428452]\n",
      "93.5698182917592\n",
      "dbias:  [-1.93462987]\n",
      "dweight[0]:  [-1.4703187]\n",
      "dweight[1]:  [-1.5477039]\n",
      "92.41515303444552\n",
      "dbias:  [-1.92265601]\n",
      "dweight[0]:  [-1.65348417]\n",
      "dweight[1]:  [-1.63425761]\n",
      "94.90379380466338\n",
      "dbias:  [-1.94837156]\n",
      "dweight[0]:  [-1.55869725]\n",
      "dweight[1]:  [-1.16902294]\n",
      "91.71313259692845\n",
      "dbias:  [-1.91533947]\n",
      "dweight[0]:  [-1.72380553]\n",
      "dweight[1]:  [-1.72380553]\n",
      "94.77503576922584\n",
      "dbias:  [-1.94704942]\n",
      "dweight[0]:  [-1.16822965]\n",
      "dweight[1]:  [-1.55763953]\n",
      "94.83940386148073\n",
      "dbias:  [-1.94771049]\n",
      "dweight[0]:  [-1.36339734]\n",
      "dweight[1]:  [-1.36339734]\n"
     ]
    }
   ],
   "source": [
    "for x, label in zip(input_value, output_value):\n",
    "    y = activation_func(np.dot(weights, x) + bias)\n",
    "    loss = loss_func(y, label)\n",
    "    losses.append(loss)\n",
    "\n",
    "    bias -= 2 * (y - label[0]) * step if (y - label[0]) > 0 else 0\n",
    "    weights[0] -= 2 * x[0] * (y - label[0]) * step if (y - label[0]) > 0 else 0\n",
    "    weights[1] -= 2 * x[1] * (y - label[0]) * step if (y - label[0]) > 0 else 0\n",
    "    \n",
    "    print(loss)\n",
    "    print(\"dbias: \", 2 * (y - label[0]) * step)\n",
    "    print(\"dweight[0]: \", 2 * x[0] * (y - label[0]) * step)\n",
    "    print(\"dweight[1]: \", 2 * x[1] * (y - label[0]) * step)"
   ]
  },
  {
   "cell_type": "code",
   "execution_count": 885,
   "id": "e7d6342e",
   "metadata": {},
   "outputs": [
    {
     "data": {
      "image/png": "[encoded data removed]",
      "text/plain": [
       "<Figure size 432x288 with 1 Axes>"
      ]
     },
     "metadata": {
      "needs_background": "light"
     },
     "output_type": "display_data"
    }
   ],
   "source": [
    "plt.plot(losses)\n",
    "plt.show()"
   ]
  },
  {
   "cell_type": "code",
   "execution_count": 716,
   "id": "98045490",
   "metadata": {},
   "outputs": [
    {
     "data": {
      "text/plain": [
       "(array([0.22559325, 0.22239291]), array([-0.38768361]))"
      ]
     },
     "execution_count": 716,
     "metadata": {},
     "output_type": "execute_result"
    }
   ],
   "source": [
    "weights, bias"
   ]
  },
  {
   "cell_type": "code",
   "execution_count": 856,
   "id": "a90b07ef",
   "metadata": {},
   "outputs": [],
   "source": [
    "def predict(x):\n",
    "    global weights, bias\n",
    "    return np.dot(weights, x)[0] + bias"
   ]
  },
  {
   "cell_type": "code",
   "execution_count": 865,
   "id": "8ec575c5",
   "metadata": {},
   "outputs": [
    {
     "data": {
      "text/plain": [
       "array([4.43551572])"
      ]
     },
     "execution_count": 865,
     "metadata": {},
     "output_type": "execute_result"
    }
   ],
   "source": [
    "predict(np.array([[10], [2]]))"
   ]
  },
  {
   "cell_type": "code",
   "execution_count": 512,
   "id": "2b030703",
   "metadata": {},
   "outputs": [
    {
     "data": {
      "text/plain": [
       "array([0.04643187])"
      ]
     },
     "execution_count": 512,
     "metadata": {},
     "output_type": "execute_result"
    }
   ],
   "source": [
    "np.dot(weights, np.array([[0.1], [0.8]]))"
   ]
  },
  {
   "cell_type": "code",
   "execution_count": 318,
   "id": "82239c48",
   "metadata": {},
   "outputs": [
    {
     "ename": "SyntaxError",
     "evalue": "invalid syntax (2747712242.py, line 3)",
     "output_type": "error",
     "traceback": [
      "\u001b[0;36m  Input \u001b[0;32mIn [318]\u001b[0;36m\u001b[0m\n\u001b[0;31m    plt.scatter(x=i * 0.1, y=j * 0.1, label= 0.5 < predict(np.array([[i * 0.1], [j * 0.1]])) ? 1:0  )\u001b[0m\n\u001b[0m                                                                                             ^\u001b[0m\n\u001b[0;31mSyntaxError\u001b[0m\u001b[0;31m:\u001b[0m invalid syntax\n"
     ]
    }
   ],
   "source": [
    "for i in range(0, 10):\n",
    "    for j in range(0, 10):\n",
    "        plt.scatter(x=i * 0.1, y=j * 0.1, label= 0.5 < predict(np.array([[i * 0.1], [j * 0.1]])) ? 1:0  )"
   ]
  },
  {
   "cell_type": "code",
   "execution_count": null,
   "id": "88799d89",
   "metadata": {},
   "outputs": [],
   "source": []
  }
 ],
 "metadata": {
  "kernelspec": {
   "display_name": "Python 3 (ipykernel)",
   "language": "python",
   "name": "python3"
  },
  "language_info": {
   "codemirror_mode": {
    "name": "ipython",
    "version": 3
   },
   "file_extension": ".py",
   "mimetype": "text/x-python",
   "name": "python",
   "nbconvert_exporter": "python",
   "pygments_lexer": "ipython3",
   "version": "3.9.12"
  }
 },
 "nbformat": 4,
 "nbformat_minor": 5
}
