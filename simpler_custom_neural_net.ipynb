{
 "cells": [
  {
   "cell_type": "code",
   "execution_count": 1,
   "id": "e3d92539",
   "metadata": {},
   "outputs": [],
   "source": [
    "%matplotlib inline"
   ]
  },
  {
   "cell_type": "code",
   "execution_count": 2,
   "id": "1dfca193",
   "metadata": {},
   "outputs": [],
   "source": [
    "import numpy as np\n",
    "import matplotlib.pyplot as plt"
   ]
  },
  {
   "cell_type": "code",
   "execution_count": 3,
   "id": "80b39dbc",
   "metadata": {},
   "outputs": [],
   "source": [
    "input_value = np.array([\n",
    "    [[0.15], [0.02]],\n",
    "    [[0.25], [0.15]],\n",
    "    [[0.50], [0.25]],\n",
    "    [[0.65], [0.50]],\n",
    "    [[0.75], [0.60]],\n",
    "    [[0.90], [0.80]],\n",
    "    [[0.15], [0.15]],\n",
    "    [[0.20], [0.10]],\n",
    "    [[0.50], [0.40]],\n",
    "    [[0.15], [0.50]],\n",
    "    [[0.60], [0.60]],\n",
    "    [[0.75], [0.90]],\n",
    "    [[0.75], [0.80]],\n",
    "    [[0.85], [0.85]],\n",
    "    [[0.50], [0.60]],\n",
    "    [[0.60], [0.90]],\n",
    "    [[0.60], [0.80]],\n",
    "    [[0.60], [0.70]],\n",
    "])\n",
    "output_value = np.array([\n",
    "    [1],\n",
    "    [1],\n",
    "    [1],\n",
    "    [1],\n",
    "    [1],\n",
    "    [1],\n",
    "    [1],\n",
    "    [1],\n",
    "    [1],\n",
    "    [0],\n",
    "    [0],\n",
    "    [0],\n",
    "    [0],\n",
    "    [0],\n",
    "    [0],\n",
    "    [0],\n",
    "    [0],\n",
    "    [0]\n",
    "])"
   ]
  },
  {
   "cell_type": "code",
   "execution_count": 4,
   "id": "b66546eb",
   "metadata": {},
   "outputs": [],
   "source": [
    "def activation_func(x):\n",
    "    return max(0, x)"
   ]
  },
  {
   "cell_type": "code",
   "execution_count": 5,
   "id": "c69f4ebc",
   "metadata": {},
   "outputs": [],
   "source": [
    "def loss_func(predict, label):\n",
    "    return sum(label - predict)"
   ]
  },
  {
   "cell_type": "code",
   "execution_count": 6,
   "id": "c1f6fe6e",
   "metadata": {},
   "outputs": [],
   "source": [
    "step = 0.001\n",
    "weights = np.array([0.5, 0.5])\n",
    "bias = 0.5"
   ]
  },
  {
   "cell_type": "code",
   "execution_count": 7,
   "id": "86f713d7",
   "metadata": {},
   "outputs": [],
   "source": [
    "losses = []"
   ]
  },
  {
   "cell_type": "code",
   "execution_count": 312,
   "id": "d78d1767",
   "metadata": {},
   "outputs": [
    {
     "name": "stdout",
     "output_type": "stream",
     "text": [
      "0.8044985327590279\n",
      "0.6683546049341904\n",
      "0.4659157590196039\n",
      "0.22813201478342038\n",
      "0.11044005418054781\n",
      "-0.0966985791281445\n",
      "0.7247095140622025\n",
      "0.7270314386298138\n",
      "0.37397023173966837\n",
      "-0.4896733015218847\n",
      "-0.8049064262595349\n",
      "-1.0732310102686815\n",
      "-1.0120048531451609\n",
      "-1.0990838916831998\n",
      "-0.7483254719911946\n",
      "-0.9885266814500362\n",
      "-0.9272650609713204\n",
      "-0.8659895915532189\n"
     ]
    }
   ],
   "source": [
    "for e, x in enumerate(input_value):\n",
    "    loss = loss_func(activation_func(np.dot(weights, x) + bias), output_value[e][0])\n",
    "    losses.append(loss)\n",
    "    print(loss)\n",
    "    bias += bias * step * loss\n",
    "    weights[0] += weights[0] * step * 0.5 * input_value[0][0] * (-loss)\n",
    "    weights[1] += weights[1] * step * 0.5 * input_value[1][0] * (-loss)"
   ]
  },
  {
   "cell_type": "code",
   "execution_count": 313,
   "id": "e7d6342e",
   "metadata": {},
   "outputs": [
    {
     "data": {
      "image/png": "[encoded data removed]",
      "text/plain": [
       "<Figure size 432x288 with 1 Axes>"
      ]
     },
     "metadata": {
      "needs_background": "light"
     },
     "output_type": "display_data"
    }
   ],
   "source": [
    "plt.plot(losses)\n",
    "plt.show()"
   ]
  },
  {
   "cell_type": "code",
   "execution_count": 10,
   "id": "a90b07ef",
   "metadata": {},
   "outputs": [],
   "source": [
    "def predict(x):\n",
    "    global weights, bias\n",
    "    return np.dot(weights, x)[0] + bias"
   ]
  },
  {
   "cell_type": "code",
   "execution_count": 314,
   "id": "8ec575c5",
   "metadata": {},
   "outputs": [
    {
     "data": {
      "text/plain": [
       "0.6304573438620491"
      ]
     },
     "execution_count": 314,
     "metadata": {},
     "output_type": "execute_result"
    }
   ],
   "source": [
    "predict(np.array([[0.4], [0.5]]))"
   ]
  },
  {
   "cell_type": "code",
   "execution_count": 315,
   "id": "2b030703",
   "metadata": {},
   "outputs": [
    {
     "data": {
      "text/plain": [
       "array([0.54665684])"
      ]
     },
     "execution_count": 315,
     "metadata": {},
     "output_type": "execute_result"
    }
   ],
   "source": [
    "np.dot(weights, np.array([[0.1], [0.8]]))"
   ]
  },
  {
   "cell_type": "code",
   "execution_count": 318,
   "id": "82239c48",
   "metadata": {},
   "outputs": [
    {
     "ename": "SyntaxError",
     "evalue": "invalid syntax (2747712242.py, line 3)",
     "output_type": "error",
     "traceback": [
      "\u001b[0;36m  Input \u001b[0;32mIn [318]\u001b[0;36m\u001b[0m\n\u001b[0;31m    plt.scatter(x=i * 0.1, y=j * 0.1, label= 0.5 < predict(np.array([[i * 0.1], [j * 0.1]])) ? 1:0  )\u001b[0m\n\u001b[0m                                                                                             ^\u001b[0m\n\u001b[0;31mSyntaxError\u001b[0m\u001b[0;31m:\u001b[0m invalid syntax\n"
     ]
    }
   ],
   "source": [
    "for i in range(0, 10):\n",
    "    for j in range(0, 10):\n",
    "        plt.scatter(x=i * 0.1, y=j * 0.1, label= 0.5 < predict(np.array([[i * 0.1], [j * 0.1]])) ? 1:0  )"
   ]
  },
  {
   "cell_type": "code",
   "execution_count": null,
   "id": "88799d89",
   "metadata": {},
   "outputs": [],
   "source": []
  }
 ],
 "metadata": {
  "kernelspec": {
   "display_name": "Python 3 (ipykernel)",
   "language": "python",
   "name": "python3"
  },
  "language_info": {
   "codemirror_mode": {
    "name": "ipython",
    "version": 3
   },
   "file_extension": ".py",
   "mimetype": "text/x-python",
   "name": "python",
   "nbconvert_exporter": "python",
   "pygments_lexer": "ipython3",
   "version": "3.8.10"
  }
 },
 "nbformat": 4,
 "nbformat_minor": 5
}
