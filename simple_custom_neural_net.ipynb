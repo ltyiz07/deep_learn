{
 "cells": [
  {
   "cell_type": "code",
   "execution_count": 1,
   "id": "02118647",
   "metadata": {},
   "outputs": [],
   "source": [
    "import numpy as np\n",
    "import matplotlib.pyplot as plt"
   ]
  },
  {
   "cell_type": "code",
   "execution_count": 8,
   "id": "4898a0e1",
   "metadata": {},
   "outputs": [],
   "source": [
    "input = np.array([\n",
    "    [[0.15], [0.15]],\n",
    "    [[0.25], [0.25]],\n",
    "    [[0.15], [0.25]],\n",
    "    [[0.25], [0.15]],\n",
    "    [[0.25], [0.5]],\n",
    "    [[0.5], [0.5]],\n",
    "    [[0.75], [0.5]],\n",
    "    [[0.15], [0.5]],\n",
    "    [[0.6], [0.25]],\n",
    "    [[0.75], [0.15]],\n",
    "    [[0.75], [0.3]],\n",
    "    [[0.85], [0.4]],\n",
    "])\n",
    "output = np.array([\n",
    "    [[1], [0], [0]],\n",
    "    [[1], [0], [0]],\n",
    "    [[1], [0], [0]],\n",
    "    [[1], [0], [0]],\n",
    "    [[0], [1], [0]],\n",
    "    [[0], [1], [0]],\n",
    "    [[0], [1], [0]],\n",
    "    [[0], [1], [0]],\n",
    "    [[0], [0], [1]],\n",
    "    [[0], [0], [1]],\n",
    "    [[0], [0], [1]],\n",
    "    [[0], [0], [1]],\n",
    "    [[0], [0], [1]],\n",
    "])"
   ]
  },
  {
   "cell_type": "code",
   "execution_count": 11,
   "id": "b1c28dee",
   "metadata": {},
   "outputs": [],
   "source": [
    "def activate(x):\n",
    "    return max(0, x)"
   ]
  },
  {
   "cell_type": "code",
   "execution_count": null,
   "id": "7559ea05",
   "metadata": {},
   "outputs": [],
   "source": []
  }
 ],
 "metadata": {
  "kernelspec": {
   "display_name": "Python 3 (ipykernel)",
   "language": "python",
   "name": "python3"
  },
  "language_info": {
   "codemirror_mode": {
    "name": "ipython",
    "version": 3
   },
   "file_extension": ".py",
   "mimetype": "text/x-python",
   "name": "python",
   "nbconvert_exporter": "python",
   "pygments_lexer": "ipython3",
   "version": "3.10.5"
  }
 },
 "nbformat": 4,
 "nbformat_minor": 5
}
