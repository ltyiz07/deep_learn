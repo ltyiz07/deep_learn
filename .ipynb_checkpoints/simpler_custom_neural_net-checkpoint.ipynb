{
 "cells": [
  {
   "cell_type": "code",
   "execution_count": null,
   "id": "1dfca193",
   "metadata": {},
   "outputs": [],
   "source": [
    "import numpy as np\n",
    "import matplotlib.pyplot as plt"
   ]
  },
  {
   "cell_type": "code",
   "execution_count": null,
   "id": "80b39dbc",
   "metadata": {},
   "outputs": [],
   "source": [
    "input = np.array([\n",
    "    [[0.15], [0.02]],\n",
    "    [[0.25], [0.15]],\n",
    "    [[0.5], [0.25]],\n",
    "    [[0.65], [0.5]],\n",
    "    [[0.75], [0.6]],\n",
    "    [[0.9], [0.8]],\n",
    "    [[0.15], [0.15]],\n",
    "    [[0.15], [0.5]],\n",
    "    [[0.6], [0.6]],\n",
    "    [[0.75], [0.7]],\n",
    "    [[0.75], [0.8]],\n",
    "    [[0.85], [0.85]],\n",
    "])\n",
    "output = np.array([\n",
    "    [[1], [0],\n",
    "    [[1], [0]],\n",
    "    [[1], [0]],\n",
    "    [[1], [0]],\n",
    "    [[1], [0]],\n",
    "    [[1], [0]],\n",
    "    [[0], [1]],\n",
    "    [[0], [1]],\n",
    "    [[0], [1]],\n",
    "    [[0], [1]],\n",
    "    [[0], [1]],\n",
    "    [[0], [1]]\n",
    "])"
   ]
  }
 ],
 "metadata": {
  "kernelspec": {
   "display_name": "Python 3 (ipykernel)",
   "language": "python",
   "name": "python3"
  }
 },
 "nbformat": 4,
 "nbformat_minor": 5
}
